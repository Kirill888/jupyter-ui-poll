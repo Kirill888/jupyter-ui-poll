{
 "cells": [
  {
   "cell_type": "code",
   "execution_count": null,
   "metadata": {},
   "outputs": [],
   "source": [
    "import ipywidgets as w\n",
    "from IPython.display import display\n",
    "from ui import make_sample_ui"
   ]
  },
  {
   "cell_type": "code",
   "execution_count": null,
   "metadata": {},
   "outputs": [],
   "source": [
    "state = make_sample_ui()\n",
    "display(state.ui)"
   ]
  },
  {
   "cell_type": "code",
   "execution_count": null,
   "metadata": {},
   "outputs": [],
   "source": [
    "from jupyter_ui_poll import ui_poll\n",
    "\n",
    "def poll_cbk():\n",
    "    \"\"\" This function is called 10 times a second\n",
    "    \"\"\"\n",
    "    if state.color is not None:\n",
    "        return state.color, 'user'\n",
    "    \n",
    "    with state.dbg:\n",
    "        print('.', end=\"\", flush=True)\n",
    "    progress = state.progress\n",
    "    progress.value += 0.1\n",
    "    if progress.max - progress.value <= 3:\n",
    "        progress.bar_style = 'danger'\n",
    "    if progress.value >= progress.max:\n",
    "        with state.dbg:\n",
    "            print(\"\\nTimes UP!\")\n",
    "        return 'beige', 'timeout'\n",
    "    return None\n",
    "\n",
    "cc, mode = ui_poll(poll_cbk, sleep=0.1)"
   ]
  },
  {
   "cell_type": "code",
   "execution_count": null,
   "metadata": {},
   "outputs": [],
   "source": [
    "if mode == 'user':\n",
    "    print(f\"So you picked '{cc}'\")\n",
    "else:\n",
    "    print('Try to think faster next time')\n",
    "w.HTML(f'''\n",
    "<div style=\"width:100px;height:100px;background:{cc};padding:10px;border-color:black;border-style:solid\">{cc}</div>''')"
   ]
  }
 ],
 "metadata": {
  "kernelspec": {
   "display_name": "Python 3",
   "language": "python",
   "name": "python3"
  },
  "language_info": {
   "codemirror_mode": {
    "name": "ipython",
    "version": 3
   },
   "file_extension": ".py",
   "mimetype": "text/x-python",
   "name": "python",
   "nbconvert_exporter": "python",
   "pygments_lexer": "ipython3",
   "version": "3.6.8"
  }
 },
 "nbformat": 4,
 "nbformat_minor": 4
}
