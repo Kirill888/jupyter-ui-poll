{
 "cells": [
  {
   "cell_type": "markdown",
   "metadata": {},
   "source": [
    "# Introduction\n",
    "\n",
    "This notebook introduces `jupyter_ui_poll` library.\n",
    "\n",
    "This library allows one to implement a \"blocking GUI\" inside a Jupyter environment. It does not implement new GUI primitives, rather it allows use of existing `ipywidgets` based libraries in a blocking fashion. It also gives you mechanisms to maintain interactivity of widgets while executing a long-running cell.\n",
    "\n",
    "After going through this notebook you should also checkout a more [complex example](ComplexUIExample.ipynb), it demonstrates implementation a blocking UI primitive as a library."
   ]
  },
  {
   "cell_type": "code",
   "execution_count": null,
   "metadata": {},
   "outputs": [],
   "source": [
    "import ipywidgets as w\n",
    "from IPython.display import display\n",
    "import time\n",
    "from jupyter_ui_poll import (\n",
    "    ui_events, \n",
    "    with_ui_events,\n",
    "    run_ui_poll_loop\n",
    ")"
   ]
  },
  {
   "cell_type": "markdown",
   "metadata": {},
   "source": [
    "## Simplest UI widget\n",
    "\n",
    "Create a button that displays number of times it was clicked. We will be using it for testing.\n",
    "\n",
    "Go on, run the cell below and click the button few times."
   ]
  },
  {
   "cell_type": "code",
   "execution_count": null,
   "metadata": {},
   "outputs": [],
   "source": [
    "def on_click(btn):\n",
    "    n = int(btn.description)\n",
    "    btn.description = str(n+1)\n",
    "    \n",
    "def test_button():\n",
    "    \"\"\"\n",
    "    Create button that displays number of times it was clicked\n",
    "    \"\"\"\n",
    "    btn = w.Button(description=\"0\")\n",
    "    btn.on_click(on_click)\n",
    "    return btn\n",
    "\n",
    "display(test_button())"
   ]
  },
  {
   "cell_type": "markdown",
   "metadata": {},
   "source": [
    "## Waiting for user action\n",
    "\n",
    "Example of using `ui_events` function. This is the foundational function in `jupyter-ui-poll` library, all other methods use it under the hood. `ui_events` returns a function your code should call to process UI events that happened so far while executing a long-running cell. This requires temporarily modifying internals of the running IPython kernel, hence this function needs to be used inside `with` statement, so that IPython state can be restored to normal once your code is done, even if errors have happened.\n",
    "\n",
    "You can supply how many events should be processed everytime you call `ui_poll` function, default is `1`. You probably want to use larger value if you have highly interactve widgets that generate a lot of events, like a map, or if your poll frequency is low. One should aim for something like 100 events per second. If you notice that UI lags and is not responsive try increasing poll frequency and if that is not possible, increase number of UI events you process per polling interval.\n",
    "\n",
    "- Cell below presents a button with click count display\n",
    "- Roughly ten times a second we print click count so far\n",
    "- When click count reaches 10, we stop"
   ]
  },
  {
   "cell_type": "code",
   "execution_count": null,
   "metadata": {},
   "outputs": [],
   "source": [
    "btn = test_button()\n",
    "print('Press this button 10 times to terminate')\n",
    "display(btn)\n",
    "\n",
    "with ui_events() as ui_poll:\n",
    "    while int(btn.description) < 10:\n",
    "        print(btn.description, end='')\n",
    "        ui_poll(11)  # Process upto 11 ui events per iteration\n",
    "        time.sleep(0.1)\n",
    "        \n",
    "print('... done')"
   ]
  },
  {
   "cell_type": "markdown",
   "metadata": {},
   "source": [
    "## Process Long Sequence while Responding to UI events\n",
    "\n",
    "Sometimes you want to process a large number of small jobs in the notebook, but still want to respond to UI events, like button clicks. Maybe you want to terminate computation early and get result so far, or change some parameter mid-flight.  Providing interactive feedback to the user about the state of the computation is another example.\n",
    "\n",
    "Just wrap an iterator in `with_ui_events` function, you will get the same data out, but also UI events will be processed in between each item."
   ]
  },
  {
   "cell_type": "code",
   "execution_count": null,
   "metadata": {},
   "outputs": [],
   "source": [
    "btn = test_button()\n",
    "print('Press this button a few times')\n",
    "display(btn)\n",
    "\n",
    "for i in with_ui_events(range(55), 10):  # Process upto 10 ui events per iteration\n",
    "    if int(btn.description) >= 5:\n",
    "        print('✋', end='')\n",
    "        break                            # Test early exit\n",
    "    print(btn.description, end='')       # Verify UI state changes\n",
    "    time.sleep(0.1)                      # Simulate blocking computation\n",
    "print('... done')"
   ]
  },
  {
   "cell_type": "markdown",
   "metadata": {},
   "source": [
    "Try changing code in the cell above to run without `with_ui_events` \n",
    "\n",
    "```diff\n",
    "- for i in with_ui_events(range(55), 10):\n",
    "+ for i in range(55):\n",
    "```\n",
    "\n",
    "You will see that button text no longer updates as you click it, but instead `on_click` events will be processed as soon as cell finishes exectuting."
   ]
  },
  {
   "cell_type": "markdown",
   "metadata": {},
   "source": [
    "## Example using run_ui_poll_loop\n",
    "\n",
    "A common scenario is to wait for some input from the user, validate it, and if successfull continue with the execution of the rest of the notebook. `run_ui_poll_loop` is handy in this case. You give it a function to call at a regular interval. This function should return `None` while user input is stil incomplete. Once all data is entered this function should extract it from the UI and return as python construct of some sort (tuple, dictionary, single number, anything but `None`) to be used by the rest of the notebook.\n",
    "\n",
    "Cell below will:\n",
    "\n",
    "- Display a button\n",
    "- Ask user to press it 10 times\n",
    "- Report how many seconds it took\n",
    "\n",
    "Try using `Cell->Run All Below`, everything should still work as expected."
   ]
  },
  {
   "cell_type": "code",
   "execution_count": null,
   "metadata": {},
   "outputs": [],
   "source": [
    "t0 = time.time()\n",
    "xx = ['-_-', 'o_o']\n",
    "\n",
    "def on_poll():\n",
    "    \"\"\" This is called repeatedly by run_ui_poll_loop\n",
    "    \n",
    "        Return None if condition hasn't been met yet\n",
    "        \n",
    "        Return some result once done, in this example result \n",
    "        is a number of seconds it took to press the button 10 times.\n",
    "    \"\"\"\n",
    "    if int(btn.description) < 10:\n",
    "        print(xx[0], end='\\r', flush=True)\n",
    "        xx[:] = xx[::-1]\n",
    "        return None  # Continue polling\n",
    "    \n",
    "    # Terminate polling and return final result\n",
    "    return time.time() - t0\n",
    "\n",
    "btn = test_button()\n",
    "print('Press button 10 times')\n",
    "display(btn)\n",
    "\n",
    "dt = run_ui_poll_loop(on_poll, 1/15)\n",
    "print('._.')         # This should display the text in the output of this cell\n",
    "n_times = '10 times' # To verify that the rest of this cell executes before executing cells below"
   ]
  },
  {
   "cell_type": "markdown",
   "metadata": {},
   "source": [
    "Cell below uses `dt` and `n_times` that are set in the cell above, so it's important that it doesn't execute until `dt` is known."
   ]
  },
  {
   "cell_type": "code",
   "execution_count": null,
   "metadata": {},
   "outputs": [],
   "source": [
    "print(f'Took {dt:.1f} seconds to click {n_times}')"
   ]
  }
 ],
 "metadata": {
  "kernelspec": {
   "display_name": "Python 3",
   "language": "python",
   "name": "python3"
  },
  "language_info": {
   "codemirror_mode": {
    "name": "ipython",
    "version": 3
   },
   "file_extension": ".py",
   "mimetype": "text/x-python",
   "name": "python",
   "nbconvert_exporter": "python",
   "pygments_lexer": "ipython3",
   "version": "3.6.8"
  }
 },
 "nbformat": 4,
 "nbformat_minor": 2
}
