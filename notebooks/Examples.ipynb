{
 "cells": [
  {
   "cell_type": "markdown",
   "metadata": {},
   "source": [
    "# Introduction\n",
    "\n",
    "This notebook introduces `jupyter_ui_poll` library.\n",
    "\n",
    "This library allows one to implement a \"blocking GUI\" inside a Jupyter\n",
    "environment. It does not implement new GUI primitives, rather it allows use of\n",
    "existing `ipywidgets` based libraries in a blocking fashion. It also gives you\n",
    "mechanisms to maintain interactivity of widgets while executing a long-running\n",
    "cell.\n",
    "\n",
    "After going through this notebook you should also checkout a more [complex\n",
    "example](ComplexUIExample.ipynb), it demonstrates implementation a blocking UI\n",
    "primitive as a library."
   ]
  },
  {
   "cell_type": "code",
   "execution_count": null,
   "metadata": {},
   "outputs": [],
   "source": [
    "import asyncio\n",
    "import time\n",
    "\n",
    "import ipywidgets as w\n",
    "from IPython.display import display\n",
    "from jupyter_ui_poll import run_ui_poll_loop, ui_events, with_ui_events"
   ]
  },
  {
   "cell_type": "markdown",
   "metadata": {},
   "source": [
    "## Simplest UI widget\n",
    "\n",
    "Create a button that displays number of times it was clicked. We will be using it for testing.\n",
    "\n",
    "Go on, run the cell below and click the button few times."
   ]
  },
  {
   "cell_type": "code",
   "execution_count": null,
   "metadata": {},
   "outputs": [],
   "source": [
    "def on_click(btn):\n",
    "    n = int(btn.description)\n",
    "    btn.description = str(n + 1)\n",
    "\n",
    "\n",
    "def test_button():\n",
    "    \"\"\"\n",
    "    Create button that displays number of times it was clicked\n",
    "    \"\"\"\n",
    "    btn = w.Button(description=\"0\")\n",
    "    btn.on_click(on_click)\n",
    "    return btn\n",
    "\n",
    "\n",
    "display(test_button())"
   ]
  },
  {
   "cell_type": "markdown",
   "metadata": {},
   "source": [
    "## Waiting for user action\n",
    "\n",
    "Example of using `ui_events` function. This is the foundational function in\n",
    "`jupyter-ui-poll` library, all other methods use it under the hood. `ui_events`\n",
    "returns a function your code should call to process UI events that happened so\n",
    "far while executing a long-running cell. This requires temporarily modifying\n",
    "internals of the running IPython kernel, hence this function needs to be used\n",
    "inside `with` statement, so that IPython state can be restored to normal once\n",
    "your code is done, even if errors have happened.\n",
    "\n",
    "You can supply how many events should be processed every time you call `ui_poll`\n",
    "function, default is `1`. You probably want to use larger value if you have\n",
    "highly interactive widgets that generate a lot of events, like a map, or if your\n",
    "poll frequency is low. One should aim for something like 100 events per second.\n",
    "If you notice that UI lags and is not responsive try increasing poll frequency\n",
    "and if that is not possible, increase number of UI events you process per\n",
    "polling interval.\n",
    "\n",
    "- Cell below presents a button with click count display\n",
    "- Roughly ten times a second we print click count so far\n",
    "- When click count reaches 10, we stop"
   ]
  },
  {
   "cell_type": "code",
   "execution_count": null,
   "metadata": {},
   "outputs": [],
   "source": [
    "btn = test_button()\n",
    "print(\"Press this button 10 times to terminate\")\n",
    "display(btn)\n",
    "\n",
    "with ui_events() as ui_poll:\n",
    "    while int(btn.description) < 10:\n",
    "        print(btn.description, end=\"\")\n",
    "        ui_poll(11)  # Process upto 11 ui events per iteration\n",
    "        time.sleep(0.1)\n",
    "\n",
    "print(\"... done\")"
   ]
  },
  {
   "cell_type": "markdown",
   "metadata": {},
   "source": [
    "## Process Long Sequence while Responding to UI events\n",
    "\n",
    "Sometimes you want to process a large number of small jobs in the notebook, but\n",
    "still want to respond to UI events, like button clicks. Maybe you want to\n",
    "terminate computation early and get the result so far, or change some parameter\n",
    "mid-flight. Providing interactive feedback to the user about the state of the\n",
    "computation is another example.\n",
    "\n",
    "Just wrap an iterator in `with_ui_events` function, you will get the same data\n",
    "out, but also UI events will be processed in between each item."
   ]
  },
  {
   "cell_type": "code",
   "execution_count": null,
   "metadata": {},
   "outputs": [],
   "source": [
    "btn = test_button()\n",
    "print(\"Press this button a few times\")\n",
    "display(btn)\n",
    "\n",
    "for i in with_ui_events(range(55), 10):  # Process upto 10 ui events per iteration\n",
    "    if int(btn.description) >= 5:\n",
    "        print(\"✋\", end=\"\")\n",
    "        break  # Test early exit\n",
    "    print(btn.description, end=\"\")  # Verify UI state changes\n",
    "    time.sleep(0.1)  # Simulate blocking computation\n",
    "print(\"... done\")"
   ]
  },
  {
   "cell_type": "markdown",
   "metadata": {},
   "source": [
    "Try changing code in the cell above to run without `with_ui_events`\n",
    "\n",
    "```diff\n",
    "- for i in with_ui_events(range(55), 10):\n",
    "+ for i in range(55):\n",
    "```\n",
    "\n",
    "You will see that the button text no longer updates as you click it, but instead\n",
    "`on_click` events will be processed as soon as the cell finishes executing."
   ]
  },
  {
   "cell_type": "markdown",
   "metadata": {},
   "source": [
    "## Example using run_ui_poll_loop\n",
    "\n",
    "A common scenario is to wait for some input from the user, validate it, and if\n",
    "successful continue with the execution of the rest of the notebook.\n",
    "`run_ui_poll_loop` is handy in this case. You give it a function to call at a\n",
    "regular interval. This function should return `None` while user input is still\n",
    "incomplete. Once all data is entered this function should extract it from the UI\n",
    "and return as python construct of some sort (tuple, dictionary, single number,\n",
    "anything but `None`) to be used by the rest of the notebook.\n",
    "\n",
    "Cell below will:\n",
    "\n",
    "- Display a button\n",
    "- Ask user to press it 10 times\n",
    "- Report how many seconds it took\n",
    "\n",
    "Try using `Cell->Run All Below`, everything should still work as expected."
   ]
  },
  {
   "cell_type": "code",
   "execution_count": null,
   "metadata": {},
   "outputs": [],
   "source": [
    "t0 = time.time()\n",
    "xx = [\"-_-\", \"o_o\"]\n",
    "\n",
    "\n",
    "def on_poll():\n",
    "    \"\"\"This is called repeatedly by run_ui_poll_loop\n",
    "\n",
    "    Return None if condition hasn't been met yet\n",
    "\n",
    "    Return some result once done, in this example result\n",
    "    is a number of seconds it took to press the button 10 times.\n",
    "    \"\"\"\n",
    "    if int(btn.description) < 10:\n",
    "        print(xx[0], end=\"\\r\", flush=True)\n",
    "        xx[:] = xx[::-1]\n",
    "        return None  # Continue polling\n",
    "\n",
    "    # Terminate polling and return final result\n",
    "    return time.time() - t0\n",
    "\n",
    "\n",
    "btn = test_button()\n",
    "print(\"Press button 10 times\")\n",
    "display(btn)\n",
    "\n",
    "dt = run_ui_poll_loop(on_poll, 1 / 15)\n",
    "print(\"._.\")  # This should display the text in the output of this cell\n",
    "n_times = \"10 times\"  # To verify that the rest of this cell executes before executing cells below"
   ]
  },
  {
   "cell_type": "markdown",
   "metadata": {},
   "source": [
    "Cell below uses `dt` and `n_times` that are set in the cell above, so it's\n",
    "important that it doesn't execute until `dt` is known."
   ]
  },
  {
   "cell_type": "code",
   "execution_count": null,
   "metadata": {},
   "outputs": [],
   "source": [
    "print(f\"Took {dt:.1f} seconds to click {n_times}\")"
   ]
  },
  {
   "cell_type": "markdown",
   "metadata": {},
   "source": [
    "Cell  below contains intentional error.\n",
    "\n",
    "Cells below this one should not execute as part of `Run All Below` command you can still run them later of course."
   ]
  },
  {
   "cell_type": "code",
   "execution_count": null,
   "metadata": {},
   "outputs": [],
   "source": [
    "this_will_raise_an_error()"
   ]
  },
  {
   "cell_type": "markdown",
   "metadata": {},
   "source": [
    "## Async Operations\n",
    "\n",
    "We also support async mode of operation if desired. Just use `async with` or `async for`."
   ]
  },
  {
   "cell_type": "code",
   "execution_count": null,
   "metadata": {},
   "outputs": [],
   "source": [
    "btn = test_button()\n",
    "print(\"Press this button 10 times to terminate\")\n",
    "display(btn)\n",
    "\n",
    "async with ui_events() as ui_poll:\n",
    "    while int(btn.description) < 10:\n",
    "        print(btn.description, end=\"\")\n",
    "        await ui_poll(11)  # Process upto 11 ui events per iteration\n",
    "        await asyncio.sleep(0.1)  # Simulate async processing\n",
    "\n",
    "print(\"... done\")"
   ]
  },
  {
   "cell_type": "markdown",
   "metadata": {},
   "source": [
    "### Async Iterable\n",
    "\n",
    "Iterable returned from `with_ui_events` can also be used in async context. It can wrap async/sync iterators, the result can be iterated with either plain `for` or `async for` when wrapping normal iterators, and only with `async for` when wrapping `async` iterators. "
   ]
  },
  {
   "cell_type": "code",
   "execution_count": null,
   "metadata": {},
   "outputs": [],
   "source": [
    "btn = test_button()\n",
    "print(\"Press this button a few times\")\n",
    "display(btn)\n",
    "\n",
    "async for i in with_ui_events(range(55), 10):  # Process upto 10 ui events per iteration\n",
    "    if int(btn.description) >= 5:\n",
    "        print(\"✋\", end=\"\")\n",
    "        break  # Test early exit\n",
    "    print(btn.description, end=\"\")  # Verify UI state changes\n",
    "    await asyncio.sleep(0.1)  # Simulate Async computation\n",
    "print(\"... done\")"
   ]
  },
  {
   "cell_type": "markdown",
   "metadata": {},
   "source": [
    "### Test Async Iterable wrapping"
   ]
  },
  {
   "cell_type": "code",
   "execution_count": null,
   "metadata": {},
   "outputs": [],
   "source": [
    "from collections import abc\n",
    "\n",
    "\n",
    "async def async_range(n):\n",
    "    for i in range(n):\n",
    "        yield i\n",
    "\n",
    "\n",
    "its0 = async_range(55)\n",
    "its = with_ui_events(its0, 10)\n",
    "\n",
    "print(\n",
    "    f\"\"\"Iterable:      {isinstance(its0, abc.Iterable)}, {isinstance(its, abc.Iterable)} \n",
    "AsyncIterable: {isinstance(its0, abc.AsyncIterable)}, {isinstance(its, abc.AsyncIterable)}\"\"\"\n",
    ")"
   ]
  },
  {
   "cell_type": "markdown",
   "metadata": {},
   "source": [
    "One can create and wrap iterator in an earlier cell and use it later."
   ]
  },
  {
   "cell_type": "code",
   "execution_count": null,
   "metadata": {},
   "outputs": [],
   "source": [
    "btn = test_button()\n",
    "print(\"Press this button a few times\")\n",
    "display(btn)\n",
    "\n",
    "async for i in its:  # Process upto 10 ui events per iteration\n",
    "    if int(btn.description) >= 5:\n",
    "        print(\"✋\", end=\"\")\n",
    "        break  # Test early exit\n",
    "    print(btn.description, end=\"\")  # Verify UI state changes\n",
    "    await asyncio.sleep(0.1)  # Simulate Async computation\n",
    "print(\"... done\")"
   ]
  },
  {
   "cell_type": "markdown",
   "metadata": {},
   "source": [
    "------------------------------------------------------------"
   ]
  }
 ],
 "metadata": {
  "jupytext": {
   "formats": "ipynb,md"
  },
  "kernelspec": {
   "display_name": "Python 3",
   "language": "python",
   "name": "python3"
  },
  "language_info": {
   "codemirror_mode": {
    "name": "ipython",
    "version": 3
   },
   "file_extension": ".py",
   "mimetype": "text/x-python",
   "name": "python",
   "nbconvert_exporter": "python",
   "pygments_lexer": "ipython3",
   "version": "3.8.10"
  }
 },
 "nbformat": 4,
 "nbformat_minor": 4
}
